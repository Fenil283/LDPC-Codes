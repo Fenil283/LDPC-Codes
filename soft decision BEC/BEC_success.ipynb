{
  "nbformat": 4,
  "nbformat_minor": 0,
  "metadata": {
    "colab": {
      "name": "BEC_SAKSES.ipynb",
      "provenance": [],
      "collapsed_sections": []
    },
    "kernelspec": {
      "name": "python3",
      "display_name": "Python 3"
    },
    "language_info": {
      "name": "python"
    }
  },
  "cells": [
    {
      "cell_type": "code",
      "metadata": {
        "id": "3AzPJA7YClkk"
      },
      "source": [
        "import random\n",
        "import numpy as np\n",
        "from scipy.io  import loadmat\n",
        "import math\n",
        "import matplotlib.pyplot as plt"
      ],
      "execution_count": 3,
      "outputs": []
    },
    {
      "cell_type": "code",
      "metadata": {
        "id": "G3vTrswRkPeW"
      },
      "source": [
        "def bec(b,p):\n",
        "  a = b.copy()\n",
        "  for i in range(0,len(a)):\n",
        "    if random.random() <= p:\n",
        "      a[i] = -1\n",
        "  return a\n",
        "\n",
        "def rat(i):\n",
        "  if i==1:\n",
        "    i = 0.999999999\n",
        "  if i==0:\n",
        "    i = 0.000000001\n",
        "  return i/(1-i)\n",
        "  \n",
        "def c2v(aa,ii):  \n",
        "  aa = np.delete(aa,ii) \n",
        "  length = len(aa)\n",
        "  sum = 1\n",
        "  for i in range(length):\n",
        "    sum = sum * ( 1 - 2 * aa[i])\n",
        "  sum = 0.5 - (sum / 2)\n",
        "  return sum"
      ],
      "execution_count": 4,
      "outputs": []
    },
    {
      "cell_type": "code",
      "metadata": {
        "colab": {
          "base_uri": "https://localhost:8080/"
        },
        "id": "iVK6lECaCf3a",
        "outputId": "c2a17809-2417-4ee8-e665-2b7d6d9fbda2"
      },
      "source": [
        "\n",
        "\n",
        "\n",
        "\n"
      ],
      "execution_count": null,
      "outputs": [
        {
          "output_type": "stream",
          "text": [
            "[[0 0 0 ... 0 0 0]\n",
            " [1 0 0 ... 0 0 0]\n",
            " [0 1 0 ... 0 0 0]\n",
            " ...\n",
            " [0 0 0 ... 0 0 0]\n",
            " [0 0 0 ... 0 0 0]\n",
            " [0 0 0 ... 0 0 0]]\n",
            "5 3\n",
            "3000\n",
            "5000\n",
            "ch =  [[  39   46   83  138  177]\n",
            " [   0   47   84  139  178]\n",
            " [   1   48   85  140  179]\n",
            " ...\n",
            " [ 977 1966 2988 3975 4969]\n",
            " [ 978 1967 2989 3976 4970]\n",
            " [ 979 1968 2990 3977 4971]]\n",
            "var =  [[   1 1014 2025]\n",
            " [   2 1015 2026]\n",
            " [   3 1016 2027]\n",
            " ...\n",
            " [ 994 1962 2985]\n",
            " [ 995 1963 2986]\n",
            " [ 996 1964 2987]]\n"
          ],
          "name": "stdout"
        }
      ]
    },
    {
      "cell_type": "code",
      "metadata": {
        "id": "LF6Pt5vNYdlb"
      },
      "source": [
        "def success(H,C):\n",
        "  #print(H)\n",
        "  dc = dv = 0\n",
        "\n",
        "  for a in H[0]:\n",
        "    if a==1:\n",
        "      dc = dc + 1\n",
        "\n",
        "  for na in H[:,0]:\n",
        "    if na==1:\n",
        "      dv = dv+1\n",
        "\n",
        "  #print(dc,dv)\n",
        "  #  ↑ calculating dc and dv\n",
        "\n",
        "  row = H.shape[0]\n",
        "  print(row)\n",
        "  col = H.shape[1]\n",
        "  print(col)\n",
        "  #  ↑ calculating no. of CNs and VNs\n",
        "\n",
        "  ch = np.array([[-1 for i in range(dc)] for j in range(row)])\n",
        "  var = np.array([[-1 for i in range(dv)] for j in range(col)])\n",
        "\n",
        "  for i in range(0,row):\n",
        "    k = 0\n",
        "    for j in range(0,col):\n",
        "      if H[i][j] == 1:\n",
        "        ch[i][k] = j;\n",
        "        k = k+1\n",
        "        for m in range(dv):\n",
        "          if var[j][m] == -1:\n",
        "            var[j][m] = i\n",
        "            break\n",
        "  #  ↑ implementing tanner graph model\n",
        "  #print('check = ',ch)\n",
        "  #print('variable = ',var)\n",
        "\n",
        "  p=0\n",
        "  Ns = 500               # N-sim variable\n",
        "  ee = np.zeros(11)     # probabilities 0 to 1\n",
        "  for gg in range(0,11):\n",
        "    p = round(p,1)\n",
        "    #print('p  =  ',p)\n",
        "    s = 0\n",
        "\n",
        "    for ns in range(0,Ns):    # simulating     \n",
        "      \n",
        "      AC = bec(C,p)           # channel output\n",
        "      #print('AC= ',AC)\n",
        "\n",
        "      acp=np.zeros((col))         \n",
        "      for i in range(0,col):\n",
        "        if AC[i]==1:\n",
        "          acp[i] = 1\n",
        "        elif AC[i]==0:\n",
        "          acp[i] = 0\n",
        "        else:\n",
        "          acp[i] = 0.5\n",
        "  # ↑ assigning probabilities according to bits\n",
        "      #print('acp = ')\n",
        "      #print(acp)\n",
        "      # ↑ VNs got initial data.\n",
        "\n",
        "      cs = np.zeros((row,dc))\n",
        "\n",
        "      for i in range(0,row):\n",
        "        for j in range(0,dc):\n",
        "          cs[i][j] = acp[ch[i][j]]\n",
        "  #    print('cs = ')\n",
        "  #    print(cs)\n",
        "      # ↑ CNs got initial data.\n",
        "\n",
        "      ansp = np.array([-1]*col)\n",
        "      for u in range(0,50):   #loop for each iteration\n",
        "\n",
        "        cc = np.zeros((row,dc)) \n",
        "        for i in range(0,row):\n",
        "          for j in range(0,dc):\n",
        "            cc[i][j] = c2v(cs[i],j)\n",
        "  #     print('cc = ')\n",
        "  #     print(cc)\n",
        "# ↑ CNs computed to send VNs back.\n",
        "\n",
        "        vs = np.zeros((col,dv))\n",
        "        for i in range(0,col):\n",
        "          for j in range(0,dv):\n",
        "            ii = var[i][j]\n",
        "            for k in range(0,dc):\n",
        "              if ch[ii][k] == i:\n",
        "                break\n",
        "            vs[i][j] = cc[ii][k]\n",
        "  #     print('vs = ')\n",
        "  #     print(vs)\n",
        "        # ↑ VN got computed data.\n",
        "\n",
        "        ans=np.zeros((col))\n",
        "        for i in range(0,col):    #darek VN mate.\n",
        "            ans[i] = math.log(rat(acp[i]),math.e)\n",
        "            for j in range(0,dv):    #darek CN mate\n",
        "              ans[i] = ans[i] + math.log(rat(vs[i][j]),math.e)\n",
        "            if ans[i]>=0:\n",
        "              ans[i] = 1\n",
        "            else:\n",
        "              ans[i] = 0\n",
        "        #print('ans = ',ans)\n",
        "    # determining answer bits.\n",
        "\n",
        "        if (ans == ansp).all():\n",
        "          break\n",
        "        ansp = ans\n",
        "\n",
        "        vc = np.zeros((col,dv))\n",
        "        for i in range(0,col):\n",
        "          for j in range(0,dv):\n",
        "            up = acp[i]\n",
        "            dw = 1-acp[i]\n",
        "            for k in range(0,dv):\n",
        "              if var[i][k] == var[i][j]:\n",
        "                continue\n",
        "              else:\n",
        "                up = up * vs[i][k]\n",
        "                dw = dw * (1-vs[i][k])\n",
        "            vc[i][j] = up/(up+dw)\n",
        "\n",
        "  #      print('vc = ')\n",
        "  #      print(vc)\n",
        "# ↑ VN computing to send CNs back.\n",
        "\n",
        "        for i in range(0,row):\n",
        "          for j in range(0,dc):\n",
        "            ii = ch[i][j]\n",
        "            for k in range(0,dv):\n",
        "              if var[ii][k] == i:\n",
        "                break\n",
        "            cs[i][j] = vc[ii][k]\n",
        "  #      print('cs = ',cs)\n",
        "        # CN gets computed data for next iteration.\n",
        "\n",
        "      if np.array_equal(ans,C):\n",
        "        s = s + 1       # success probabilities for graph\n",
        "   \n",
        "    ee[gg] = s\n",
        "    p = p + 0.1\n",
        "      #print(jj)\n",
        "  print('ee = ',ee)\n",
        "  ee = ee/Ns\n",
        "  tri = np.zeros(11)\n",
        "  for i in range (0,11):\n",
        "    tri[i] = i / 10 \n",
        "  plt.title(\"3000 X 5000 H_mat, dc = 5, dv = 3, Soft BEC \")   #plotting convergence graph.\n",
        "  plt.xlabel(\"p error probability\")\n",
        "  plt.ylabel(\"probability of successful decoding\")\n",
        "  plt.grid()\n",
        "  plt.plot(tri,ee,linewidth = '2.5')"
      ],
      "execution_count": 7,
      "outputs": []
    },
    {
      "cell_type": "code",
      "metadata": {
        "id": "uqmxQwwNRYAU",
        "colab": {
          "base_uri": "https://localhost:8080/",
          "height": 347
        },
        "outputId": "7e411232-d416-4b89-8393-e716591329ec"
      },
      "source": [
        "'''\n",
        "aa = loadmat('/content/Hmatrix2.mat')\n",
        "result = aa.items()\n",
        "data = list(result)\n",
        "HH = np.array(data)\n",
        "print(HH.shape)\n",
        "H = HH[3][1]\n",
        "'''\n",
        "H = np.array([[1,0,0,0,0,1,0,1,0,1,0,0],\n",
        "              [1,0,0,1,1,0,0,0,0,0,1,0],\n",
        "              [0,1,0,0,1,0,1,0,1,0,0,0],\n",
        "              [0,0,1,0,0,1,0,0,0,0,1,1],\n",
        "              [0,0,1,0,0,0,1,1,0,0,0,1],\n",
        "              [0,1,0,0,1,0,0,0,1,0,1,0],\n",
        "              [1,0,0,1,0,0,1,0,0,1,0,0],\n",
        "              [0,1,0,0,0,1,0,1,0,1,0,0],\n",
        "            [0,0,1,1,0,0,0,0,1,0,0,1]])\n",
        "C = np.zeros((12))\n",
        "success(H,C)"
      ],
      "execution_count": 8,
      "outputs": [
        {
          "output_type": "stream",
          "text": [
            "9\n",
            "12\n",
            "ee =  [500. 497. 481. 434. 378. 287. 172.  82.  15.   1.   0.]\n"
          ],
          "name": "stdout"
        },
        {
          "output_type": "display_data",
          "data": {
            "image/png": "[encoded data removed]",
            "text/plain": [
              "<Figure size 432x288 with 1 Axes>"
            ]
          },
          "metadata": {
            "tags": [],
            "needs_background": "light"
          }
        }
      ]
    },
    {
      "cell_type": "code",
      "metadata": {
        "id": "qW70Ie8VF-Nu"
      },
      "source": [
        ""
      ],
      "execution_count": null,
      "outputs": []
    }
  ]
}