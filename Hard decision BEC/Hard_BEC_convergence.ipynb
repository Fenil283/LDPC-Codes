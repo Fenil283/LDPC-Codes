{
  "nbformat": 4,
  "nbformat_minor": 0,
  "metadata": {
    "colab": {
      "name": "Hard_BEC_convergence.ipynb",
      "provenance": []
    },
    "kernelspec": {
      "name": "python3",
      "display_name": "Python 3"
    },
    "language_info": {
      "name": "python"
    }
  },
  "cells": [
    {
      "cell_type": "code",
      "metadata": {
        "colab": {
          "base_uri": "https://localhost:8080/"
        },
        "id": "nprdj9Fd6dSV",
        "outputId": "f0310978-b3ec-4845-e39f-92b5906f8459"
      },
      "source": [
        "import matplotlib.pyplot as plt\n",
        "import numpy as np\n",
        "import random\n",
        "\n",
        "from scipy.io  import loadmat\n",
        "aa = loadmat('/content/Hmatrix.mat')\n",
        "result = aa.items()\n",
        "data = list(result)\n",
        "H = np.array(data[3][1])\n",
        "\n",
        "def bec(aa,p):                    # channel that introduces errors in message\n",
        "  a = np.copy(aa)\n",
        "  l = len(a)\n",
        "  n=int(round(p*l,0))\n",
        "  s = random.sample(range(0,l),n)\n",
        "  for i in range(0,n):\n",
        "    a[s[i]] = -1\n",
        "  return a\n",
        "\n",
        "dc = dv = 0                      # dc represents degree of check nodes and \n",
        "                                 # dv represents degree of variable node\n",
        "\n",
        "for a in H[0]:\n",
        "  if a==1:\n",
        "    dc = dc + 1\n",
        "\n",
        "for na in H[:,0]:\n",
        "  if na==1:\n",
        "    dv = dv + 1\n",
        "\n",
        "print(dc,dv)\n",
        "\n",
        "row = H.shape[0]                 # calculating rows   \n",
        "print(row)                     \n",
        "col = H.shape[1]                 # calculating columns\n",
        "print(col)\n",
        "\n",
        "\n",
        "xpoints=np.array([0,0.1,0.2,0.3,0.4,0.5,0.6,0.7,0.8,0.9,1])\n",
        "ypoints=np.array([0.0]*11)\n",
        "\n",
        "ch = np.array([[-1 for i in range(dc)] for j in range(row)])    # represents connection of check nodes\n",
        "var = np.array([[-1 for i in range(dv)] for j in range(col)])   # represents connection of variable nodes\n",
        "\n",
        "for i in range(0,row):\n",
        "  k = 0\n",
        "  for j in range(0,col):\n",
        "    if H[i][j] == 1:\n",
        "      ch[i][k] = j;\n",
        "      k = k+1\n",
        "      for m in range(dv):\n",
        "        if var[j][m] == -1:\n",
        "          var[j][m] = i\n",
        "          break\n",
        "\n",
        "print('ch = ',ch)\n",
        "print('var = ',var)\n"
      ],
      "execution_count": null,
      "outputs": [
        {
          "output_type": "stream",
          "text": [
            "4 3\n",
            "3792\n",
            "5056\n",
            "ch =  [[  57  100  206  260]\n",
            " [  58  101  207  261]\n",
            " [  59  102  208  262]\n",
            " ...\n",
            " [1244 2464 3769 5046]\n",
            " [1245 2465 3770 5047]\n",
            " [1246 2466 3771 5048]]\n",
            "var =  [[  22 1274 2566]\n",
            " [  23 1275 2567]\n",
            " [  24 1276 2568]\n",
            " ...\n",
            " [1191 2459 3717]\n",
            " [1192 2460 3718]\n",
            " [1193 2461 3719]]\n"
          ],
          "name": "stdout"
        }
      ]
    },
    {
      "cell_type": "code",
      "metadata": {
        "colab": {
          "base_uri": "https://localhost:8080/",
          "height": 312
        },
        "id": "WoOosnMN6mID",
        "outputId": "86ea5f8e-30b5-4a61-ec90-36e709e2b86b"
      },
      "source": [
        "result=0\n",
        "prob=0\n",
        "s=0\n",
        "\n",
        "uu = np.zeros((11,31))       # 2D array to store error probability for every iteration\n",
        "p = 0\n",
        "rr = 1                       # Nsim\n",
        "p_ere = np.zeros(11)         # For error probability 0 to 1\n",
        "for i in range(0,11):\n",
        "  p_ere[i] = p\n",
        "  uu[i,0] = p*rr\n",
        "  p = p+0.1\n",
        "print(p_ere) \n",
        "\n",
        "for yy in range(2,8):                    # To plot convergence graph for error probability from 0.2 to 0.7\n",
        "    prob=p_ere[yy]\n",
        "    for q in range(0,rr):\n",
        "\n",
        "      input_msg = np.zeros(col)\n",
        "      received_msg=bec(input_msg,prob)\n",
        "      ans_msg = np.copy(received_msg)\n",
        "\n",
        "      it = 0                            # iterator index\n",
        "      VNs = np.copy(ans_msg[ch])        # creating subarray of variable nodes connected to check nodes\n",
        "      while np.count_nonzero(ans_msg == -1) and it<30:   \n",
        "        \n",
        "        it = it + 1\n",
        "\n",
        "        for ii in range(row): \n",
        "\n",
        "          if(np.count_nonzero(VNs[ii] == -1) == 1):     #if there is only one error in subarray it will update the value of erasure by doing XOR operation on other VNs\n",
        "            ctr=0\n",
        "            p=0\n",
        "\n",
        "            for l in range(dc):\n",
        "              if(VNs[ii][l]!=-1):\n",
        "                ctr+=VNs[ii][l]\n",
        "              else:\n",
        "                p=l\n",
        "            VNs[ii][p] = ctr%2\n",
        "\n",
        "        Vs = np.copy(var)               # Storing data at variable nodes computed by check nodes\n",
        "        for i in range(0,col):\n",
        "          for j in range(0,dv):\n",
        "            ii = var[i][j]\n",
        "            for k in range(0,dc):\n",
        "              if ch[ii][k] == i:\n",
        "                break\n",
        "            Vs[i][j] = VNs[ii][k]\n",
        "\n",
        "        for i in range(0,col):          # Determining answer bit\n",
        "          flag = 1\n",
        "          if received_msg[i] == -1:\n",
        "            for j in range(0,dv):\n",
        "              if Vs[i][j] != -1:\n",
        "                flag = 0\n",
        "                ans_msg[i] = Vs[i,j]\n",
        "                break\n",
        "            if flag:\n",
        "              ans_msg[i] = -1\n",
        "\n",
        "        Vc = np.copy(var)               # Calulating bits to send CNs for next iteration\n",
        "        for i in range(0,col):\n",
        "          for j in range(0,dv):\n",
        "            flag = 1\n",
        "            for k in range(0,dv):\n",
        "              if var[i][k]==var[i][j]:\n",
        "                continue\n",
        "              if Vs[i][k] != -1:\n",
        "                flag = 0\n",
        "                Vc[i][j] = Vs[i][k]\n",
        "                break\n",
        "            if flag:\n",
        "              Vc[i][j] = -1\n",
        "        \n",
        "        for i in range(0,row):          # Passing Calculated bits to CNs back\n",
        "         for j in range(0,dc):\n",
        "           ii = ch[i][j]\n",
        "           for k in range(0,dv):\n",
        "             if var[ii][k] == i:\n",
        "               break\n",
        "           VNs[i][j] = Vc[ii][k]       \n",
        " \n",
        "        one = np.count_nonzero(received_msg == -1)\n",
        "        co = 0\n",
        "        for iii in range(0,col):\n",
        "          if received_msg[iii] != input_msg[iii]:\n",
        "            co = co + 1                              # Storing number of errors\n",
        "        uu[yy,it] = uu[yy,it] + co/col\n",
        "\n",
        "uu = uu/rr\n",
        "\n",
        "for i in range(2,8):\n",
        "  plt.plot(range(1,32),uu[i,:],linewidth = '2.5')    # plotting the convergence graph\n",
        "plt.legend([\"p = 0.2\", \"p = 0.3\",\"p = 0.4\",\"p = 0.5\",\"p = 0.6\",\"p = 0.7\"])\n",
        "plt.title(\"3792 X 5056 H_mat, dc = 4, dv = 3, Hard BEC \")\n",
        "plt.xlabel(\"No. of iterations\")\n",
        "plt.ylabel(\"probability of error\")\n",
        "plt.grid()\n"
      ],
      "execution_count": null,
      "outputs": [
        {
          "output_type": "stream",
          "text": [
            "[0.  0.1 0.2 0.3 0.4 0.5 0.6 0.7 0.8 0.9 1. ]\n"
          ],
          "name": "stdout"
        },
        {
          "output_type": "display_data",
          "data": {
            "image/png": "[encoded data removed]",
            "text/plain": [
              "<Figure size 432x288 with 1 Axes>"
            ]
          },
          "metadata": {
            "tags": [],
            "needs_background": "light"
          }
        }
      ]
    }
  ]
}