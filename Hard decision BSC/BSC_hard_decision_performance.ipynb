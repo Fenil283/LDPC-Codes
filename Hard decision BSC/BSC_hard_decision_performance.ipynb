{
 "cells": [
  {
   "cell_type": "code",
   "execution_count": 2,
   "metadata": {},
   "outputs": [],
   "source": [
    "!jt -t oceans16"
   ]
  },
  {
   "cell_type": "code",
   "execution_count": 1,
   "metadata": {},
   "outputs": [],
   "source": [
    "import numpy as np\n",
    "from random import random"
   ]
  },
  {
   "cell_type": "code",
   "execution_count": 2,
   "metadata": {},
   "outputs": [],
   "source": [
    "import scipy.io as sio\n",
    "Hm1 = sio.loadmat('F:\\sem 2\\ct111\\ct project\\Hmatrix.mat')\n",
    "H_mat1 = Hm1['H']"
   ]
  },
  {
   "cell_type": "code",
   "execution_count": 7,
   "metadata": {},
   "outputs": [],
   "source": [
    "Hm2 = sio.loadmat('F:\\sem 2\\ct111\\ct project\\Hmatrix2.mat')\n",
    "H_mat2 = Hm2['H']"
   ]
  },
  {
   "cell_type": "code",
   "execution_count": 8,
   "metadata": {},
   "outputs": [],
   "source": [
    "import matplotlib.pyplot as plt"
   ]
  },
  {
   "cell_type": "code",
   "execution_count": 4,
   "metadata": {},
   "outputs": [],
   "source": [
    "#for running this code we want to notify you that before run cells of Monte Carlo simulation function and ploting the graph, you first need to run two cells below the ploting cell, which are traversing the H matrix and our bsc_decoder function "
   ]
  },
  {
   "cell_type": "code",
   "execution_count": 5,
   "metadata": {},
   "outputs": [
    {
     "name": "stdout",
     "output_type": "stream",
     "text": [
      "3792\n",
      "5056\n"
     ]
    }
   ],
   "source": [
    "(h_r,h_c) = H_mat1.shape\n",
    "print(h_r)\n",
    "print(h_c)"
   ]
  },
  {
   "cell_type": "code",
   "execution_count": 9,
   "metadata": {},
   "outputs": [
    {
     "name": "stdout",
     "output_type": "stream",
     "text": [
      "3000\n",
      "5000\n"
     ]
    }
   ],
   "source": [
    "(h_r,h_c) = H_mat2.shape\n",
    "print(h_r)\n",
    "print(h_c)"
   ]
  },
  {
   "cell_type": "code",
   "execution_count": null,
   "metadata": {},
   "outputs": [],
   "source": [
    "#Monte Carlo simulation\n",
    "#error prbability\n",
    "p = np.linspace(0,1,11)\n",
    "\n",
    "pcorr = [];\n",
    "\n",
    "Nsim = 100\n",
    "perr = []\n",
    "\n",
    "#number of message bits in recived message.\n",
    "size = 5056\n",
    "\n",
    "trans = [0 for x in range(size)]\n",
    "\n",
    "for i in range(11):\n",
    "    \n",
    "    n_err = 0\n",
    "    n_corr = 0\n",
    "    for j in range(Nsim):\n",
    "        Message=[]\n",
    "        for k in range(size):\n",
    "            #for inserting errors in message using cross-over probability.\n",
    "            if(random()>1-p[i]):\n",
    "                 Message.append(1)\n",
    "            else:\n",
    "                 Message.append(0)\n",
    "        \n",
    "        Message = np.array(Message)\n",
    "        ans = bsc_decoder(Message)\n",
    "        ans = list(ans);\n",
    "        if(ans == trans):\n",
    "            n_corr = n_corr + 1;\n",
    "        else:\n",
    "            n_err = n_err + 1; \n",
    "    perr.append(n_err/Nsim)\n",
    "    pcorr.append(n_corr/Nsim)\n"
   ]
  },
  {
   "cell_type": "code",
   "execution_count": 20,
   "metadata": {},
   "outputs": [
    {
     "data": {
      "image/png": "[encoded data removed]",
      "text/plain": [
       "<Figure size 432x288 with 1 Axes>"
      ]
     },
     "metadata": {
      "needs_background": "light"
     },
     "output_type": "display_data"
    }
   ],
   "source": [
    "plt.plot(p,pcorr)\n",
    "plt.title(\"Performance of BSC decoder for hard decision\")\n",
    "plt.xlabel(\"Cross-over probability\")\n",
    "plt.ylabel(\"success probability for given error\")\n",
    "plt.grid()"
   ]
  },
  {
   "cell_type": "code",
   "execution_count": 10,
   "metadata": {},
   "outputs": [],
   "source": [
    "H = np.array([[1,0,0,0,0,1,0,1,0,1,0,0],\n",
    "              [1,0,0,1,1,0,0,0,0,0,1,0],\n",
    "              [0,1,0,0,1,0,1,0,1,0,0,0],\n",
    "              [0,0,1,0,0,0,1,1,0,0,0,1],\n",
    "              [0,0,1,0,0,1,0,0,0,0,1,1],\n",
    "              [0,1,0,0,1,0,0,0,1,0,1,0],\n",
    "              [1,0,0,1,0,0,1,0,0,1,0,0],\n",
    "              [0,1,0,0,0,1,0,1,0,1,0,0],\n",
    "              [0,0,1,1,0,0,0,0,1,0,0,1]])\n",
    "\n",
    "(row_h,col_h) = H_mat1.shape;\n",
    "   \n",
    "dc = 0\n",
    "dv = 0\n",
    "\n",
    "#for taking values of dc and dv.\n",
    "for i in range(row_h):\n",
    "    if(H_mat1[i,0] == 1):\n",
    "        dv = dv + 1\n",
    "        \n",
    "for i in range(col_h):\n",
    "    if(H_mat1[0,i] == 1):\n",
    "        dc = dc + 1\n",
    "\n",
    "#for getting all values of VNs which are connected to particular CN.\n",
    "check = np.zeros((row_h,dc))+-1;\n",
    "\n",
    "\n",
    "#for getting index of all VNs which are connected to particuler CN.\n",
    "index = np.zeros((row_h,dc))+-1;\n",
    "\n",
    "\n",
    "for i in range(row_h):\n",
    "\n",
    "    #to indicate number of VNs connected to particulare CN.\n",
    "    f = -1;\n",
    "    for j in range(col_h):\n",
    "        if(H_mat1[i,j] == 1):\n",
    "            f = f + 1\n",
    "            index[i,f] = j\n",
    "\n"
   ]
  },
  {
   "cell_type": "code",
   "execution_count": null,
   "metadata": {},
   "outputs": [],
   "source": [
    "\n"
   ]
  },
  {
   "cell_type": "code",
   "execution_count": 15,
   "metadata": {},
   "outputs": [],
   "source": [
    "def bsc_decoder(message):\n",
    "    \n",
    "    (row_c,col_c) = check.shape\n",
    "    \n",
    "    #copy of our message which we return at end.\n",
    "    ans = np.zeros(len(message))\n",
    "\n",
    "    \n",
    "    #copy of our message which we return at end.\n",
    "    ans = message\n",
    "    \n",
    "    for i in range(row_c):\n",
    "\n",
    "          for j in range(col_c):\n",
    "            check[i,j] = ans[int(index[i,j])]\n",
    "    \n",
    "    \n",
    "    count = 0;\n",
    "\n",
    "    #number of max itrations.\n",
    "    while(count < 10):\n",
    "        \n",
    "        count = count + 1\n",
    "        \n",
    "                    \n",
    "        #to store every predicted value for particular VN by its CNs.\n",
    "        Vn = np.zeros((len(ans),dv))+-1\n",
    "\n",
    "        #counter which knows how many pridicted values store in VN form each CN.\n",
    "        dh = np.zeros(len(ans))\n",
    "        \n",
    "        for i in range(row_c):\n",
    "\n",
    "            for j in range(col_c):\n",
    "                sum1 = 0\n",
    "\n",
    "                #4\n",
    "                for k in range(col_c):\n",
    "\n",
    "                    if(k == j):\n",
    "                        continue\n",
    "                    \n",
    "                    sum1 = sum1 + check[i,k]\n",
    "                    \n",
    "\n",
    "                sum1 = sum1%2\n",
    "                \n",
    "\n",
    "                Vn[int(index[i,j]),int(dh[int(index[i,j])])] = sum1\n",
    "                \n",
    "                #counter to store number of Cns connedcted to VNs\n",
    "                dh[int(index[i,j])] = dh[int(index[i,j])] + 1\n",
    "\n",
    "                \n",
    "                \n",
    "        #majority voting.\n",
    "        (row_v,col_v) = Vn.shape;\n",
    "                        \n",
    "        for i in range(row_v): \n",
    "            \n",
    "            temp1 = np.count_nonzero(Vn[i,:int(dh[i])])\n",
    "            temp0 = np.size(Vn[i,:int(dh[i])]) - np.count_nonzero(Vn[i,:int(dh[i])])\n",
    "            \n",
    "            if(message[i] == 0):\n",
    "                temp0 = temp0 + 1\n",
    "            \n",
    "            else:\n",
    "                temp1 = temp1 +1\n",
    "        \n",
    "            if(temp0 >= temp1):\n",
    "                ans[i] = 0\n",
    "            else:\n",
    "                ans[i] = 1\n",
    "        \n",
    "        #VNs to CNs\n",
    "        \n",
    "        #counter for values of VNs which they dispatch to their respective CNs.\n",
    "        co = np.zeros(row_v);\n",
    "        for i in range(row_c):\n",
    "            for j in range(dc):\n",
    "                \n",
    "                temp1 = 0\n",
    "                temp0 = 0\n",
    "                \n",
    "                #number of 1's in pridicted values of VNs.\n",
    "                temp1 = np.count_nonzero(Vn[int(index[i,j]),int(co[int(index[i,j])])+1:]) + np.count_nonzero(Vn[int(index[i,j]),:int(co[int(index[i,j])])])\n",
    "                #number of 0's in pridicted values of VNs.\n",
    "                temp0 = dv-temp1-1\n",
    "                \n",
    "                if(message[int(index[i,j])] == 0):\n",
    "                    temp0 = temp0 + 1\n",
    "            \n",
    "                else:\n",
    "                    temp1 = temp1 +1\n",
    "\n",
    "                if(temp0 >= temp1):\n",
    "                    check[i,j] = 0\n",
    "                \n",
    "                else:\n",
    "                    check[i,j] = 1\n",
    "\n",
    "                co[int(index[i,j])] +=1\n",
    "    return ans\n"
   ]
  },
  {
   "cell_type": "code",
   "execution_count": 16,
   "metadata": {},
   "outputs": [
    {
     "name": "stdout",
     "output_type": "stream",
     "text": [
      "not decoded\n"
     ]
    }
   ],
   "source": [
    "#for decoding particular message for given cross-over probability.\n",
    "size = 5056\n",
    "Message=[]\n",
    "trans = [0 for x in range(size)]\n",
    "\n",
    "p = 0.2\n",
    "for k in range(size):\n",
    "            \n",
    "    if(random()>1-p):\n",
    "          Message.append(1)\n",
    "    else:\n",
    "          Message.append(0)\n",
    "    \n",
    "Message = np.array(Message)\n",
    "ans = bsc_decoder(Message)\n",
    "ans = list(ans)\n",
    "if(ans == trans):\n",
    "    print(\"decoded\")\n",
    "else:\n",
    "    print(\"not decoded\")    \n"
   ]
  },
  {
   "cell_type": "code",
   "execution_count": null,
   "metadata": {},
   "outputs": [],
   "source": [
    " "
   ]
  },
  {
   "cell_type": "code",
   "execution_count": null,
   "metadata": {},
   "outputs": [],
   "source": []
  },
  {
   "cell_type": "code",
   "execution_count": null,
   "metadata": {},
   "outputs": [],
   "source": []
  }
 ],
 "metadata": {
  "kernelspec": {
   "display_name": "Python 3",
   "language": "python",
   "name": "python3"
  },
  "language_info": {
   "codemirror_mode": {
    "name": "ipython",
    "version": 3
   },
   "file_extension": ".py",
   "mimetype": "text/x-python",
   "name": "python",
   "nbconvert_exporter": "python",
   "pygments_lexer": "ipython3",
   "version": "3.8.5"
  }
 },
 "nbformat": 4,
 "nbformat_minor": 4
}
